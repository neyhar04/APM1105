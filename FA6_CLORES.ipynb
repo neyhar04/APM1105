{
 "cells": [
  {
   "cell_type": "code",
   "execution_count": 3,
   "metadata": {},
   "outputs": [
    {
     "name": "stdout",
     "output_type": "stream",
     "text": [
      "Enter base: 5\n",
      "Enter exponent: 2\n",
      "Iterative result: 25\n",
      "Iterative rendering time: 0.0\n",
      "Recursive result: 25\n",
      "Recursive rendering time: 0.0\n"
     ]
    }
   ],
   "source": [
    "import time\n",
    "\n",
    "\n",
    "def iterative_exponent(base, exponent):\n",
    "    result = 1\n",
    "    for i in range(exponent):\n",
    "        result *= base\n",
    "    return result\n",
    "\n",
    "def recursive_exponent(base, exponent):\n",
    "    if exponent == 0:\n",
    "        return 1\n",
    "    elif exponent == 1:\n",
    "        return base\n",
    "    elif exponent % 2 == 0:\n",
    "        return recursive_exponent(base*base, exponent//2)\n",
    "    else:\n",
    "        return base*recursive_exponent(base*base, (exponent-1)//2)\n",
    "\n",
    "\n",
    "base = int(input(\"Enter base: \"))\n",
    "exponent = int(input(\"Enter exponent: \"))\n",
    "\n",
    "\n",
    "start_time = time.time()\n",
    "iterative_result = iterative_exponent(base, exponent)\n",
    "end_time = time.time()\n",
    "iterative_time = end_time - start_time\n",
    "\n",
    "\n",
    "start_time = time.time()\n",
    "recursive_result = recursive_exponent(base, exponent)\n",
    "end_time = time.time()\n",
    "recursive_time = end_time - start_time\n",
    "\n",
    "\n",
    "print(\"Iterative result:\", iterative_result)\n",
    "print(\"Iterative rendering time:\", iterative_time)\n",
    "print(\"Recursive result:\", recursive_result)\n",
    "print(\"Recursive rendering time:\", recursive_time)"
   ]
  },
  {
   "cell_type": "code",
   "execution_count": 4,
   "metadata": {},
   "outputs": [
    {
     "name": "stdout",
     "output_type": "stream",
     "text": [
      "Enter n: 5\n",
      "Iterative result: 31\n",
      "Iterative rendering time: 0.0\n",
      "Recursive result: 31\n",
      "Recursive rendering time: 0.007519245147705078\n"
     ]
    }
   ],
   "source": [
    "import time\n",
    "\n",
    "\n",
    "def iterative_sum_powers(n):\n",
    "    result = 0\n",
    "    for i in range(n):\n",
    "        result += 2**i\n",
    "    return result\n",
    "\n",
    "\n",
    "def recursive_sum_powers(n):\n",
    "    if n == 0:\n",
    "        return 0\n",
    "    elif n == 1:\n",
    "        return 1\n",
    "    else:\n",
    "        return 2**(n-1) + recursive_sum_powers(n-1)\n",
    "\n",
    "\n",
    "n = int(input(\"Enter n: \"))\n",
    "\n",
    "\n",
    "start_time = time.time()\n",
    "iterative_result = iterative_sum_powers(n)\n",
    "end_time = time.time()\n",
    "iterative_time = end_time - start_time\n",
    "\n",
    "\n",
    "start_time = time.time()\n",
    "recursive_result = recursive_sum_powers(n)\n",
    "end_time = time.time()\n",
    "recursive_time = end_time - start_time\n",
    "\n",
    "\n",
    "print(\"Iterative result:\", iterative_result)\n",
    "print(\"Iterative rendering time:\", iterative_time)\n",
    "print(\"Recursive result:\", recursive_result)\n",
    "print(\"Recursive rendering time:\", recursive_time)"
   ]
  },
  {
   "cell_type": "code",
   "execution_count": null,
   "metadata": {},
   "outputs": [],
   "source": []
  }
 ],
 "metadata": {
  "kernelspec": {
   "display_name": "Python 3",
   "language": "python",
   "name": "python3"
  },
  "language_info": {
   "codemirror_mode": {
    "name": "ipython",
    "version": 3
   },
   "file_extension": ".py",
   "mimetype": "text/x-python",
   "name": "python",
   "nbconvert_exporter": "python",
   "pygments_lexer": "ipython3",
   "version": "3.7.0"
  }
 },
 "nbformat": 4,
 "nbformat_minor": 2
}
