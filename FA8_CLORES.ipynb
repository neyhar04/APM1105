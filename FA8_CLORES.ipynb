{
 "cells": [
  {
   "cell_type": "code",
   "execution_count": 9,
   "metadata": {},
   "outputs": [
    {
     "name": "stdout",
     "output_type": "stream",
     "text": [
      "Descriptive Statistics\n",
      "                                   Prof      AssocProf      AsstProf\n",
      "Valid                         46.000000      13.000000     19.000000\n",
      "Missing                       32.000000      65.000000     59.000000\n",
      "Median                    123321.500000  103613.000000  78500.000000\n",
      "Mean                      123624.804348   91786.230769  81362.789474\n",
      "Std. Error of Mean          3663.975052    5150.719625   2152.205275\n",
      "Std. Deviation             24850.287853   18571.183714   9381.245301\n",
      "Coefficient of variation       0.201014       0.202331      0.115301\n",
      "Skewness                       0.070309      -0.151200      0.030504\n",
      "Std. Error of Skewness         0.000000       0.000000      0.000000\n",
      "Kurtosis                       0.201339      -1.614149     -1.011154\n",
      "Std. Error of Kurtosis         0.143851       0.331262      0.064708\n",
      "Minimum                    57800.000000   62884.000000  63100.000000\n",
      "Maximum                   186960.000000  119800.000000  97032.000000\n",
      "25th percentile           154750.000000  109121.600000  92000.000000\n",
      "50th percentile           123321.500000  103613.000000  78500.000000\n",
      "75th percentile           143512.250000  104542.000000  91150.000000\n",
      "10th percentile            93675.000000   71512.000000  72500.000000\n",
      "20th percentile           103275.000000   73912.000000  73300.000000\n",
      "30th percentile           108473.000000   76432.000000  74832.800000\n",
      "40th percentile           116450.000000   80528.000000  77100.000000\n",
      "60th percentile           127512.000000  103798.800000  84045.000000\n",
      "70th percentile           135889.000000  104213.200000  89800.000000\n",
      "80th percentile           148750.000000  106021.600000  91580.000000\n",
      "90th percentile           105112.500000   74830.000000  74096.000000\n"
     ]
    }
   ],
   "source": [
    "import pandas as pd\n",
    "import numpy as np\n",
    "\n",
    "df = pd.read_csv(\"https://raw.githubusercontent.com/Apress/data-analysis-and-visualization-using-python/master/Ch07/Salaries.csv\")\n",
    "\n",
    "statistics = pd.DataFrame(index=[\"Valid\", \"Missing\", \"Median\", \"Mean\", \"Std. Error of Mean\",\n",
    "                                 \"Std. Deviation\", \"Coefficient of variation\", \"Skewness\",\n",
    "                                 \"Std. Error of Skewness\", \"Kurtosis\", \"Std. Error of Kurtosis\",\n",
    "                                 \"Minimum\", \"Maximum\", \"25th percentile\", \"50th percentile\",\n",
    "                                 \"75th percentile\", \"10th percentile\", \"20th percentile\",\n",
    "                                 \"30th percentile\", \"40th percentile\", \"60th percentile\",\n",
    "                                 \"70th percentile\", \"80th percentile\", \"90th percentile\"])\n",
    "for rank in df[\"rank\"].unique():\n",
    "    salaries = df.loc[df[\"rank\"]==rank, \"salary\"]\n",
    "    valid_count = salaries.count()\n",
    "    missing_count = len(df) - valid_count\n",
    "    median = salaries.median()\n",
    "    mean = salaries.mean()\n",
    "    std_error_mean = salaries.sem()\n",
    "    std_deviation = salaries.std()\n",
    "    coeff_variation = std_deviation / mean\n",
    "    skewness = salaries.skew()\n",
    "    std_error_skewness = np.sqrt(valid_count) * skewness.std() / np.sqrt(valid_count - 1)\n",
    "    kurtosis = salaries.kurtosis()\n",
    "    std_error_kurtosis = 2 * np.sqrt((skewness ** 2 * (valid_count - 1)) / (valid_count - 3))\n",
    "    minimum = salaries.min()\n",
    "    maximum = salaries.max()\n",
    "    percentiles = np.percentile(salaries, [10, 20, 30, 40, 50, 60, 70, 80, 90, 25, 50, 75])\n",
    "    \n",
    "    statistics[rank] = [valid_count, missing_count, median, mean, std_error_mean, std_deviation,\n",
    "                        coeff_variation, skewness, std_error_skewness, kurtosis, std_error_kurtosis,\n",
    "                        minimum, maximum, percentiles[8], percentiles[10], percentiles[11], percentiles[0],\n",
    "                        percentiles[1], percentiles[2], percentiles[3], percentiles[5], percentiles[6],\n",
    "                        percentiles[7], percentiles[9]]\n",
    "    \n",
    "pd.set_option('display.max_columns', None)\n",
    "pd.set_option('display.width', 1000)\n",
    "\n",
    "print(\"Descriptive Statistics\")\n",
    "print(statistics.to_string())\n"
   ]
  },
  {
   "cell_type": "code",
   "execution_count": null,
   "metadata": {},
   "outputs": [],
   "source": []
  }
 ],
 "metadata": {
  "kernelspec": {
   "display_name": "Python 3",
   "language": "python",
   "name": "python3"
  },
  "language_info": {
   "codemirror_mode": {
    "name": "ipython",
    "version": 3
   },
   "file_extension": ".py",
   "mimetype": "text/x-python",
   "name": "python",
   "nbconvert_exporter": "python",
   "pygments_lexer": "ipython3",
   "version": "3.7.0"
  }
 },
 "nbformat": 4,
 "nbformat_minor": 2
}
