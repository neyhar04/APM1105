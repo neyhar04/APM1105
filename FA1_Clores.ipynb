{
 "cells": [
  {
   "cell_type": "code",
   "execution_count": 1,
   "metadata": {},
   "outputs": [
    {
     "name": "stdout",
     "output_type": "stream",
     "text": [
      "Enter how many miles: 45\n",
      "  72.45\n"
     ]
    }
   ],
   "source": [
    "kilometer_1 = float (input (\"Enter how many miles: \"))  \n",
    "conversion_ratio_1 = 1.61\n",
    "miles_1 = kilometer_1*conversion_ratio_1\n",
    "print (\" \", miles_1)  "
   ]
  },
  {
   "cell_type": "code",
   "execution_count": null,
   "metadata": {},
   "outputs": [],
   "source": [
    "kilometer = float (input(\"Enter homy many kilometer: \"))\n",
    "minutes = float (input(\"Enter how many minutes: \"))\n",
    "seconds = float (input(\"Enter how many secs: \"))\n",
    "secondstominutes = seconds/60\n",
    "totalminutes = minutes+secondstominutes\n",
    "hour = float(totalminutes/60)\n",
    "conversion = 1.61\n",
    "miles = kilometer/conversion\n",
    "result= miles/hour\n",
    "print(\"%.2f\"%(result))"
   ]
  }
 ],
 "metadata": {
  "kernelspec": {
   "display_name": "Python 3",
   "language": "python",
   "name": "python3"
  },
  "language_info": {
   "codemirror_mode": {
    "name": "ipython",
    "version": 3
   },
   "file_extension": ".py",
   "mimetype": "text/x-python",
   "name": "python",
   "nbconvert_exporter": "python",
   "pygments_lexer": "ipython3",
   "version": "3.7.0"
  }
 },
 "nbformat": 4,
 "nbformat_minor": 2
}
