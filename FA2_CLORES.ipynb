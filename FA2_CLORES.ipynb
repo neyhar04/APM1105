{
 "cells": [
  {
   "cell_type": "code",
   "execution_count": 2,
   "metadata": {},
   "outputs": [
    {
     "name": "stdout",
     "output_type": "stream",
     "text": [
      "-33600\n"
     ]
    }
   ],
   "source": [
    "def multiply(numbers):  \n",
    "    total = 1\n",
    "    for x in numbers:\n",
    "        total *= x  \n",
    "    return total  \n",
    "print(multiply((5, 6, -1, 2, 4, -2, -10, 7)))"
   ]
  },
  {
   "cell_type": "code",
   "execution_count": 3,
   "metadata": {},
   "outputs": [
    {
     "name": "stdout",
     "output_type": "stream",
     "text": [
      "+ ---- + ---- + ---- +\n",
      "|      |      |      |\n",
      "|      |      |      |\n",
      "|      |      |      |\n",
      "|      |      |      |\n",
      "+ ---- + ---- + ---- +\n",
      "|      |      |      |\n",
      "|      |      |      |\n",
      "|      |      |      |\n",
      "|      |      |      |\n",
      "+ ---- + ---- + ---- +\n",
      "|      |      |      |\n",
      "|      |      |      |\n",
      "|      |      |      |\n",
      "|      |      |      |\n",
      "+ ---- + ---- + ---- +\n"
     ]
    }
   ],
   "source": [
    "def my_func1():\n",
    "    print(\"+\", 4*'-', '+', 4*'-', '+', 4*'-', '+')\n",
    "\n",
    "\n",
    "def my_func2():\n",
    "    for x in range(4):\n",
    "        print('|', 4*' ', '|', 4*' ', '|', 4*' ', '|')\n",
    "\n",
    "\n",
    "def total():\n",
    "    my_func1()\n",
    "    my_func2()\n",
    "    my_func1()\n",
    "    my_func2()\n",
    "    my_func1()\n",
    "    my_func2()\n",
    "    my_func1()\n",
    "\n",
    "\n",
    "total()"
   ]
  },
  {
   "cell_type": "code",
   "execution_count": null,
   "metadata": {},
   "outputs": [],
   "source": []
  }
 ],
 "metadata": {
  "kernelspec": {
   "display_name": "Python 3",
   "language": "python",
   "name": "python3"
  },
  "language_info": {
   "codemirror_mode": {
    "name": "ipython",
    "version": 3
   },
   "file_extension": ".py",
   "mimetype": "text/x-python",
   "name": "python",
   "nbconvert_exporter": "python",
   "pygments_lexer": "ipython3",
   "version": "3.7.0"
  }
 },
 "nbformat": 4,
 "nbformat_minor": 2
}
